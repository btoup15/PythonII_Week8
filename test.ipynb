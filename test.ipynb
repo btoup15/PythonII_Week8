{
 "cells": [
  {
   "cell_type": "markdown",
   "metadata": {},
   "source": [
    "# This is a test notebook"
   ]
  },
  {
   "cell_type": "markdown",
   "metadata": {},
   "source": [
    "The following code blocks show examples of string formatting in:\n",
    "- python 3\n",
    "- python 2.6"
   ]
  },
  {
   "cell_type": "code",
   "execution_count": 1,
   "metadata": {},
   "outputs": [
    {
     "name": "stdout",
     "output_type": "stream",
     "text": [
      "The value of the saved variable is 3\n"
     ]
    }
   ],
   "source": [
    "# Python 3 formatting\n",
    "a = 3\n",
    "print(\"The value of the saved variable is {}\".format(a))"
   ]
  },
  {
   "cell_type": "code",
   "execution_count": 3,
   "metadata": {},
   "outputs": [
    {
     "name": "stdout",
     "output_type": "stream",
     "text": [
      "The value of the saved variable is 4\n"
     ]
    }
   ],
   "source": [
    "# Python 2.6 formatting (gross)\n",
    "b = 4\n",
    "print(\"The value of the saved variable is %d\" % (b))"
   ]
  },
  {
   "cell_type": "code",
   "execution_count": 4,
   "metadata": {},
   "outputs": [
    {
     "name": "stdout",
     "output_type": "stream",
     "text": [
      "Enter your favorite integer: 18\n",
      "Enter your favorite float: 3.14\n",
      "Enter your favorite string: Geaux Tigers\n",
      "Favorite integer: 18, Favorite float: 3.140000, Favorite string: Geaux Tigers\n"
     ]
    }
   ],
   "source": [
    "faveInt = int(input(\"Enter your favorite integer: \"))\n",
    "faveFloat = float(input(\"Enter your favorite float: \"))\n",
    "faveString = input(\"Enter your favorite string: \")\n",
    "print(\"Favorite integer: %d, Favorite float: %f, Favorite string: %s\" % (faveInt, faveFloat, faveString))"
   ]
  },
  {
   "cell_type": "code",
   "execution_count": null,
   "metadata": {},
   "outputs": [],
   "source": []
  }
 ],
 "metadata": {
  "kernelspec": {
   "display_name": "Python 3",
   "language": "python",
   "name": "python3"
  },
  "language_info": {
   "codemirror_mode": {
    "name": "ipython",
    "version": 3
   },
   "file_extension": ".py",
   "mimetype": "text/x-python",
   "name": "python",
   "nbconvert_exporter": "python",
   "pygments_lexer": "ipython3",
   "version": "3.6.4"
  }
 },
 "nbformat": 4,
 "nbformat_minor": 2
}
