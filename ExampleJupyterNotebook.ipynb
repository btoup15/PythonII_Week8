{
 "cells": [
  {
   "cell_type": "markdown",
   "metadata": {},
   "source": [
    "# This is a Jupyter Notebook"
   ]
  },
  {
   "cell_type": "markdown",
   "metadata": {},
   "source": [
    "Jupyter notebooks are really nice because you can include formatted Markdown text and notes, as well as mathematical equations, in the same document as blocks of code and output from that code."
   ]
  },
  {
   "cell_type": "markdown",
   "metadata": {},
   "source": [
    "Each piece of a notebook is called a cell. This cell is Markdown formatted text. You can \"execute\" a cell by typing shift-return. Executing a Markdown cell shows the formatted text. Executing a code cell causes the code to run. You can edit a cell by double-clicking on it. The cell below is a code cell that will allow you to execute these Python commands:\n",
    "\n",
    "```\n",
    "PiApprox = 3.14\n",
    "radius = 2.3\n",
    "circumference = 2 * radius * PiApprox\n",
    "print(\"The circumference of a circle with radius \" + str(radius) + \" is approximately \" + str(circumference))\n",
    "```"
   ]
  },
  {
   "cell_type": "code",
   "execution_count": 1,
   "metadata": {},
   "outputs": [
    {
     "name": "stdout",
     "output_type": "stream",
     "text": [
      "The circumference of a circle with radius 2.3 is approximately 14.443999999999999\n"
     ]
    }
   ],
   "source": [
    "PiApprox = 3.14\n",
    "radius = 2.3\n",
    "circumference = 2 * radius * PiApprox\n",
    "print(\"The circumference of a circle with radius \" + str(radius) + \" is approximately \" + str(circumference))"
   ]
  },
  {
   "cell_type": "markdown",
   "metadata": {},
   "source": [
    "Notice that you could also use this approach to format the string that is printed:\n",
    "\n",
    "```\n",
    "print(\"The circumference of a circle with radius %f is approximately %f\" % (radius, circumference))\n",
    "```"
   ]
  },
  {
   "cell_type": "code",
   "execution_count": 2,
   "metadata": {},
   "outputs": [
    {
     "name": "stdout",
     "output_type": "stream",
     "text": [
      "The circumference of a circle with radius 2.300000 is approximately 14.444000\n"
     ]
    }
   ],
   "source": [
    "print(\"The circumference of a circle with radius %f is approximately %f\" % (radius, circumference))"
   ]
  },
  {
   "cell_type": "code",
   "execution_count": 4,
   "metadata": {},
   "outputs": [
    {
     "name": "stdout",
     "output_type": "stream",
     "text": [
      "Favorite integer is 7, favorite float is 3.140000, favorite string is phyleaux.\n"
     ]
    }
   ],
   "source": [
    "faveInt = 7\n",
    "faveFloat = 3.14\n",
    "faveString = \"phyleaux\"\n",
    "print(\"Favorite integer is %d, favorite float is %f, favorite string is %s.\" % (faveInt, faveFloat, faveString))"
   ]
  },
  {
   "cell_type": "markdown",
   "metadata": {},
   "source": [
    "Python can also accept user input, like as follows:"
   ]
  },
  {
   "cell_type": "code",
   "execution_count": 5,
   "metadata": {},
   "outputs": [
    {
     "name": "stdout",
     "output_type": "stream",
     "text": [
      "Input a message: Hello, world!\n",
      "Hello, world!\n"
     ]
    }
   ],
   "source": [
    "userInp = input(\"Input a message: \")\n",
    "print(userInp)"
   ]
  },
  {
   "cell_type": "code",
   "execution_count": null,
   "metadata": {},
   "outputs": [],
   "source": []
  }
 ],
 "metadata": {
  "kernelspec": {
   "display_name": "Python 3",
   "language": "python",
   "name": "python3"
  },
  "language_info": {
   "codemirror_mode": {
    "name": "ipython",
    "version": 3
   },
   "file_extension": ".py",
   "mimetype": "text/x-python",
   "name": "python",
   "nbconvert_exporter": "python",
   "pygments_lexer": "ipython3",
   "version": "3.6.4"
  }
 },
 "nbformat": 4,
 "nbformat_minor": 2
}
